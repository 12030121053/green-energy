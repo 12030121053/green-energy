{
 "cells": [
  {
   "cell_type": "code",
   "execution_count": 1,
   "metadata": {},
   "outputs": [],
   "source": [
    "import numpy as np\n",
    "import pandas as pd\n",
    "import seaborn as sns\n",
    "from matplotlib import pyplot as plt\n",
    "%matplotlib inline\n",
    "from statsmodels.tsa.seasonal import seasonal_decompose\n"
   ]
  },
  {
   "cell_type": "code",
   "execution_count": 2,
   "metadata": {},
   "outputs": [
    {
     "data": {
      "text/html": [
       "<div>\n",
       "<style scoped>\n",
       "    .dataframe tbody tr th:only-of-type {\n",
       "        vertical-align: middle;\n",
       "    }\n",
       "\n",
       "    .dataframe tbody tr th {\n",
       "        vertical-align: top;\n",
       "    }\n",
       "\n",
       "    .dataframe thead th {\n",
       "        text-align: right;\n",
       "    }\n",
       "</style>\n",
       "<table border=\"1\" class=\"dataframe\">\n",
       "  <thead>\n",
       "    <tr style=\"text-align: right;\">\n",
       "      <th></th>\n",
       "      <th>row_id</th>\n",
       "      <th>datetime</th>\n",
       "      <th>energy</th>\n",
       "    </tr>\n",
       "  </thead>\n",
       "  <tbody>\n",
       "    <tr>\n",
       "      <th>0</th>\n",
       "      <td>1</td>\n",
       "      <td>2008-03-01 00:00:00</td>\n",
       "      <td>1259.985563</td>\n",
       "    </tr>\n",
       "    <tr>\n",
       "      <th>1</th>\n",
       "      <td>2</td>\n",
       "      <td>2008-03-01 01:00:00</td>\n",
       "      <td>1095.541500</td>\n",
       "    </tr>\n",
       "    <tr>\n",
       "      <th>2</th>\n",
       "      <td>3</td>\n",
       "      <td>2008-03-01 02:00:00</td>\n",
       "      <td>1056.247500</td>\n",
       "    </tr>\n",
       "    <tr>\n",
       "      <th>3</th>\n",
       "      <td>4</td>\n",
       "      <td>2008-03-01 03:00:00</td>\n",
       "      <td>1034.742000</td>\n",
       "    </tr>\n",
       "    <tr>\n",
       "      <th>4</th>\n",
       "      <td>5</td>\n",
       "      <td>2008-03-01 04:00:00</td>\n",
       "      <td>1026.334500</td>\n",
       "    </tr>\n",
       "  </tbody>\n",
       "</table>\n",
       "</div>"
      ],
      "text/plain": [
       "   row_id            datetime       energy\n",
       "0       1 2008-03-01 00:00:00  1259.985563\n",
       "1       2 2008-03-01 01:00:00  1095.541500\n",
       "2       3 2008-03-01 02:00:00  1056.247500\n",
       "3       4 2008-03-01 03:00:00  1034.742000\n",
       "4       5 2008-03-01 04:00:00  1026.334500"
      ]
     },
     "execution_count": 2,
     "metadata": {},
     "output_type": "execute_result"
    }
   ],
   "source": [
    "green=pd.read_csv(r'G:\\job_test\\train_1.csv',parse_dates=['datetime'])\n",
    "green.head()"
   ]
  },
  {
   "cell_type": "code",
   "execution_count": 3,
   "metadata": {},
   "outputs": [
    {
     "data": {
      "text/plain": [
       "dtype('<M8[ns]')"
      ]
     },
     "execution_count": 3,
     "metadata": {},
     "output_type": "execute_result"
    }
   ],
   "source": [
    "green.datetime.dtype"
   ]
  },
  {
   "cell_type": "code",
   "execution_count": 4,
   "metadata": {},
   "outputs": [
    {
     "data": {
      "text/html": [
       "<div>\n",
       "<style scoped>\n",
       "    .dataframe tbody tr th:only-of-type {\n",
       "        vertical-align: middle;\n",
       "    }\n",
       "\n",
       "    .dataframe tbody tr th {\n",
       "        vertical-align: top;\n",
       "    }\n",
       "\n",
       "    .dataframe thead th {\n",
       "        text-align: right;\n",
       "    }\n",
       "</style>\n",
       "<table border=\"1\" class=\"dataframe\">\n",
       "  <thead>\n",
       "    <tr style=\"text-align: right;\">\n",
       "      <th></th>\n",
       "      <th>row_id</th>\n",
       "      <th>energy</th>\n",
       "    </tr>\n",
       "  </thead>\n",
       "  <tbody>\n",
       "    <tr>\n",
       "      <th>count</th>\n",
       "      <td>94992.000000</td>\n",
       "      <td>93092.000000</td>\n",
       "    </tr>\n",
       "    <tr>\n",
       "      <th>mean</th>\n",
       "      <td>47496.500000</td>\n",
       "      <td>1702.995014</td>\n",
       "    </tr>\n",
       "    <tr>\n",
       "      <th>std</th>\n",
       "      <td>27421.972723</td>\n",
       "      <td>369.322103</td>\n",
       "    </tr>\n",
       "    <tr>\n",
       "      <th>min</th>\n",
       "      <td>1.000000</td>\n",
       "      <td>866.388600</td>\n",
       "    </tr>\n",
       "    <tr>\n",
       "      <th>25%</th>\n",
       "      <td>23748.750000</td>\n",
       "      <td>1431.541100</td>\n",
       "    </tr>\n",
       "    <tr>\n",
       "      <th>50%</th>\n",
       "      <td>47496.500000</td>\n",
       "      <td>1654.465800</td>\n",
       "    </tr>\n",
       "    <tr>\n",
       "      <th>75%</th>\n",
       "      <td>71244.250000</td>\n",
       "      <td>1935.993450</td>\n",
       "    </tr>\n",
       "    <tr>\n",
       "      <th>max</th>\n",
       "      <td>94992.000000</td>\n",
       "      <td>3374.399600</td>\n",
       "    </tr>\n",
       "  </tbody>\n",
       "</table>\n",
       "</div>"
      ],
      "text/plain": [
       "             row_id        energy\n",
       "count  94992.000000  93092.000000\n",
       "mean   47496.500000   1702.995014\n",
       "std    27421.972723    369.322103\n",
       "min        1.000000    866.388600\n",
       "25%    23748.750000   1431.541100\n",
       "50%    47496.500000   1654.465800\n",
       "75%    71244.250000   1935.993450\n",
       "max    94992.000000   3374.399600"
      ]
     },
     "execution_count": 4,
     "metadata": {},
     "output_type": "execute_result"
    }
   ],
   "source": [
    "green.describe()"
   ]
  },
  {
   "cell_type": "code",
   "execution_count": 5,
   "metadata": {},
   "outputs": [
    {
     "data": {
      "text/plain": [
       "row_id         0\n",
       "datetime       0\n",
       "energy      1900\n",
       "dtype: int64"
      ]
     },
     "execution_count": 5,
     "metadata": {},
     "output_type": "execute_result"
    }
   ],
   "source": [
    "green.isnull().sum()"
   ]
  },
  {
   "cell_type": "code",
   "execution_count": 6,
   "metadata": {},
   "outputs": [],
   "source": [
    "import sklearn\n",
    "from sklearn.impute import SimpleImputer\n",
    "imputer= SimpleImputer(strategy='mean',missing_values=np.nan)\n",
    "imputer=imputer.fit(green[['energy']])\n",
    "green['energy']=imputer.transform(green[['energy']])"
   ]
  },
  {
   "cell_type": "code",
   "execution_count": 7,
   "metadata": {},
   "outputs": [
    {
     "data": {
      "text/plain": [
       "row_id      0\n",
       "datetime    0\n",
       "energy      0\n",
       "dtype: int64"
      ]
     },
     "execution_count": 7,
     "metadata": {},
     "output_type": "execute_result"
    }
   ],
   "source": [
    "green.isnull().sum()"
   ]
  },
  {
   "cell_type": "code",
   "execution_count": 8,
   "metadata": {},
   "outputs": [
    {
     "data": {
      "text/plain": [
       "2008-03-01 00:00:00    1\n",
       "2015-05-22 13:00:00    1\n",
       "2015-05-22 22:00:00    1\n",
       "2015-05-22 21:00:00    1\n",
       "2015-05-22 20:00:00    1\n",
       "                      ..\n",
       "2011-10-11 05:00:00    1\n",
       "2011-10-11 04:00:00    1\n",
       "2011-10-11 03:00:00    1\n",
       "2011-10-11 02:00:00    1\n",
       "2018-12-31 23:00:00    1\n",
       "Name: datetime, Length: 94992, dtype: int64"
      ]
     },
     "execution_count": 8,
     "metadata": {},
     "output_type": "execute_result"
    }
   ],
   "source": [
    "green.datetime.value_counts()"
   ]
  },
  {
   "cell_type": "code",
   "execution_count": 9,
   "metadata": {},
   "outputs": [
    {
     "data": {
      "text/plain": [
       "1702.995014    1900\n",
       "1900.698800       9\n",
       "1842.714900       8\n",
       "1730.120000       8\n",
       "1922.206000       8\n",
       "               ... \n",
       "1906.510900       1\n",
       "1886.005100       1\n",
       "1872.792600       1\n",
       "1976.484300       1\n",
       "2180.217600       1\n",
       "Name: energy, Length: 61309, dtype: int64"
      ]
     },
     "execution_count": 9,
     "metadata": {},
     "output_type": "execute_result"
    }
   ],
   "source": [
    "green.energy.value_counts()"
   ]
  },
  {
   "cell_type": "code",
   "execution_count": 10,
   "metadata": {},
   "outputs": [
    {
     "data": {
      "text/plain": [
       "<AxesSubplot:xlabel='energy', ylabel='Count'>"
      ]
     },
     "execution_count": 10,
     "metadata": {},
     "output_type": "execute_result"
    },
    {
     "data": {
      "image/png": "[encoded data removed]",
      "text/plain": [
       "<Figure size 720x720 with 1 Axes>"
      ]
     },
     "metadata": {
      "needs_background": "light"
     },
     "output_type": "display_data"
    }
   ],
   "source": [
    "plt.figure(figsize=(10,10))\n",
    "sns.histplot(x='energy',data=green)"
   ]
  },
  {
   "cell_type": "code",
   "execution_count": 11,
   "metadata": {},
   "outputs": [
    {
     "data": {
      "text/plain": [
       "0        2008\n",
       "1        2008\n",
       "2        2008\n",
       "3        2008\n",
       "4        2008\n",
       "         ... \n",
       "94987    2018\n",
       "94988    2018\n",
       "94989    2018\n",
       "94990    2018\n",
       "94991    2018\n",
       "Name: green_year, Length: 94992, dtype: int64"
      ]
     },
     "execution_count": 11,
     "metadata": {},
     "output_type": "execute_result"
    }
   ],
   "source": [
    "green['green_year']=green.datetime.dt.year\n",
    "green['green_year']"
   ]
  },
  {
   "cell_type": "code",
   "execution_count": 12,
   "metadata": {},
   "outputs": [],
   "source": [
    "green['green_month']=green.datetime.dt.month"
   ]
  },
  {
   "cell_type": "code",
   "execution_count": 13,
   "metadata": {},
   "outputs": [],
   "source": [
    "green['green_hours']=green.datetime.dt.hour"
   ]
  },
  {
   "cell_type": "code",
   "execution_count": 14,
   "metadata": {},
   "outputs": [
    {
     "data": {
      "text/html": [
       "<div>\n",
       "<style scoped>\n",
       "    .dataframe tbody tr th:only-of-type {\n",
       "        vertical-align: middle;\n",
       "    }\n",
       "\n",
       "    .dataframe tbody tr th {\n",
       "        vertical-align: top;\n",
       "    }\n",
       "\n",
       "    .dataframe thead th {\n",
       "        text-align: right;\n",
       "    }\n",
       "</style>\n",
       "<table border=\"1\" class=\"dataframe\">\n",
       "  <thead>\n",
       "    <tr style=\"text-align: right;\">\n",
       "      <th></th>\n",
       "      <th>row_id</th>\n",
       "      <th>datetime</th>\n",
       "      <th>energy</th>\n",
       "      <th>green_year</th>\n",
       "      <th>green_month</th>\n",
       "      <th>green_hours</th>\n",
       "    </tr>\n",
       "  </thead>\n",
       "  <tbody>\n",
       "    <tr>\n",
       "      <th>0</th>\n",
       "      <td>1</td>\n",
       "      <td>2008-03-01 00:00:00</td>\n",
       "      <td>1259.985563</td>\n",
       "      <td>2008</td>\n",
       "      <td>3</td>\n",
       "      <td>0</td>\n",
       "    </tr>\n",
       "    <tr>\n",
       "      <th>1</th>\n",
       "      <td>2</td>\n",
       "      <td>2008-03-01 01:00:00</td>\n",
       "      <td>1095.541500</td>\n",
       "      <td>2008</td>\n",
       "      <td>3</td>\n",
       "      <td>1</td>\n",
       "    </tr>\n",
       "    <tr>\n",
       "      <th>2</th>\n",
       "      <td>3</td>\n",
       "      <td>2008-03-01 02:00:00</td>\n",
       "      <td>1056.247500</td>\n",
       "      <td>2008</td>\n",
       "      <td>3</td>\n",
       "      <td>2</td>\n",
       "    </tr>\n",
       "    <tr>\n",
       "      <th>3</th>\n",
       "      <td>4</td>\n",
       "      <td>2008-03-01 03:00:00</td>\n",
       "      <td>1034.742000</td>\n",
       "      <td>2008</td>\n",
       "      <td>3</td>\n",
       "      <td>3</td>\n",
       "    </tr>\n",
       "    <tr>\n",
       "      <th>4</th>\n",
       "      <td>5</td>\n",
       "      <td>2008-03-01 04:00:00</td>\n",
       "      <td>1026.334500</td>\n",
       "      <td>2008</td>\n",
       "      <td>3</td>\n",
       "      <td>4</td>\n",
       "    </tr>\n",
       "  </tbody>\n",
       "</table>\n",
       "</div>"
      ],
      "text/plain": [
       "   row_id            datetime       energy  green_year  green_month  \\\n",
       "0       1 2008-03-01 00:00:00  1259.985563        2008            3   \n",
       "1       2 2008-03-01 01:00:00  1095.541500        2008            3   \n",
       "2       3 2008-03-01 02:00:00  1056.247500        2008            3   \n",
       "3       4 2008-03-01 03:00:00  1034.742000        2008            3   \n",
       "4       5 2008-03-01 04:00:00  1026.334500        2008            3   \n",
       "\n",
       "   green_hours  \n",
       "0            0  \n",
       "1            1  \n",
       "2            2  \n",
       "3            3  \n",
       "4            4  "
      ]
     },
     "execution_count": 14,
     "metadata": {},
     "output_type": "execute_result"
    }
   ],
   "source": [
    "green.head()"
   ]
  },
  {
   "cell_type": "code",
   "execution_count": 15,
   "metadata": {},
   "outputs": [],
   "source": [
    "green.drop(columns='row_id',inplace=True)"
   ]
  },
  {
   "cell_type": "code",
   "execution_count": 16,
   "metadata": {},
   "outputs": [
    {
     "data": {
      "text/plain": [
       "<AxesSubplot:xlabel='green_year', ylabel='energy'>"
      ]
     },
     "execution_count": 16,
     "metadata": {},
     "output_type": "execute_result"
    },
    {
     "data": {
      "image/png": "[encoded data removed]",
      "text/plain": [
       "<Figure size 432x288 with 1 Axes>"
      ]
     },
     "metadata": {
      "needs_background": "light"
     },
     "output_type": "display_data"
    }
   ],
   "source": [
    "sns.lineplot(data=green,x='green_year',y='energy')"
   ]
  },
  {
   "cell_type": "markdown",
   "metadata": {},
   "source": [
    "As we can clearly see there is upward trend. Some irregularity from 2010 to 2014."
   ]
  },
  {
   "cell_type": "code",
   "execution_count": 17,
   "metadata": {},
   "outputs": [
    {
     "data": {
      "text/html": [
       "<div>\n",
       "<style scoped>\n",
       "    .dataframe tbody tr th:only-of-type {\n",
       "        vertical-align: middle;\n",
       "    }\n",
       "\n",
       "    .dataframe tbody tr th {\n",
       "        vertical-align: top;\n",
       "    }\n",
       "\n",
       "    .dataframe thead th {\n",
       "        text-align: right;\n",
       "    }\n",
       "</style>\n",
       "<table border=\"1\" class=\"dataframe\">\n",
       "  <thead>\n",
       "    <tr style=\"text-align: right;\">\n",
       "      <th></th>\n",
       "      <th>datetime</th>\n",
       "      <th>energy</th>\n",
       "      <th>green_year</th>\n",
       "      <th>green_month</th>\n",
       "      <th>green_hours</th>\n",
       "    </tr>\n",
       "  </thead>\n",
       "  <tbody>\n",
       "    <tr>\n",
       "      <th>0</th>\n",
       "      <td>2008-03-01 00:00:00</td>\n",
       "      <td>1259.985563</td>\n",
       "      <td>2008</td>\n",
       "      <td>3</td>\n",
       "      <td>0</td>\n",
       "    </tr>\n",
       "    <tr>\n",
       "      <th>1</th>\n",
       "      <td>2008-03-01 01:00:00</td>\n",
       "      <td>1095.541500</td>\n",
       "      <td>2008</td>\n",
       "      <td>3</td>\n",
       "      <td>1</td>\n",
       "    </tr>\n",
       "    <tr>\n",
       "      <th>2</th>\n",
       "      <td>2008-03-01 02:00:00</td>\n",
       "      <td>1056.247500</td>\n",
       "      <td>2008</td>\n",
       "      <td>3</td>\n",
       "      <td>2</td>\n",
       "    </tr>\n",
       "    <tr>\n",
       "      <th>3</th>\n",
       "      <td>2008-03-01 03:00:00</td>\n",
       "      <td>1034.742000</td>\n",
       "      <td>2008</td>\n",
       "      <td>3</td>\n",
       "      <td>3</td>\n",
       "    </tr>\n",
       "    <tr>\n",
       "      <th>4</th>\n",
       "      <td>2008-03-01 04:00:00</td>\n",
       "      <td>1026.334500</td>\n",
       "      <td>2008</td>\n",
       "      <td>3</td>\n",
       "      <td>4</td>\n",
       "    </tr>\n",
       "  </tbody>\n",
       "</table>\n",
       "</div>"
      ],
      "text/plain": [
       "             datetime       energy  green_year  green_month  green_hours\n",
       "0 2008-03-01 00:00:00  1259.985563        2008            3            0\n",
       "1 2008-03-01 01:00:00  1095.541500        2008            3            1\n",
       "2 2008-03-01 02:00:00  1056.247500        2008            3            2\n",
       "3 2008-03-01 03:00:00  1034.742000        2008            3            3\n",
       "4 2008-03-01 04:00:00  1026.334500        2008            3            4"
      ]
     },
     "execution_count": 17,
     "metadata": {},
     "output_type": "execute_result"
    }
   ],
   "source": [
    "green_energy_2008=green[(green['green_year']==2008)]\n",
    "green_energy_2008.head()"
   ]
  },
  {
   "cell_type": "code",
   "execution_count": 18,
   "metadata": {},
   "outputs": [
    {
     "data": {
      "text/html": [
       "<div>\n",
       "<style scoped>\n",
       "    .dataframe tbody tr th:only-of-type {\n",
       "        vertical-align: middle;\n",
       "    }\n",
       "\n",
       "    .dataframe tbody tr th {\n",
       "        vertical-align: top;\n",
       "    }\n",
       "\n",
       "    .dataframe thead th {\n",
       "        text-align: right;\n",
       "    }\n",
       "</style>\n",
       "<table border=\"1\" class=\"dataframe\">\n",
       "  <thead>\n",
       "    <tr style=\"text-align: right;\">\n",
       "      <th></th>\n",
       "      <th>energy</th>\n",
       "      <th>green_year</th>\n",
       "      <th>green_month</th>\n",
       "      <th>green_hours</th>\n",
       "    </tr>\n",
       "  </thead>\n",
       "  <tbody>\n",
       "    <tr>\n",
       "      <th>count</th>\n",
       "      <td>7344.000000</td>\n",
       "      <td>7344.0</td>\n",
       "      <td>7344.000000</td>\n",
       "      <td>7344.000000</td>\n",
       "    </tr>\n",
       "    <tr>\n",
       "      <th>mean</th>\n",
       "      <td>1383.936383</td>\n",
       "      <td>2008.0</td>\n",
       "      <td>7.500000</td>\n",
       "      <td>11.500000</td>\n",
       "    </tr>\n",
       "    <tr>\n",
       "      <th>std</th>\n",
       "      <td>219.829865</td>\n",
       "      <td>0.0</td>\n",
       "      <td>2.874752</td>\n",
       "      <td>6.922658</td>\n",
       "    </tr>\n",
       "    <tr>\n",
       "      <th>min</th>\n",
       "      <td>866.388600</td>\n",
       "      <td>2008.0</td>\n",
       "      <td>3.000000</td>\n",
       "      <td>0.000000</td>\n",
       "    </tr>\n",
       "    <tr>\n",
       "      <th>25%</th>\n",
       "      <td>1226.145375</td>\n",
       "      <td>2008.0</td>\n",
       "      <td>5.000000</td>\n",
       "      <td>5.750000</td>\n",
       "    </tr>\n",
       "    <tr>\n",
       "      <th>50%</th>\n",
       "      <td>1369.553550</td>\n",
       "      <td>2008.0</td>\n",
       "      <td>7.500000</td>\n",
       "      <td>11.500000</td>\n",
       "    </tr>\n",
       "    <tr>\n",
       "      <th>75%</th>\n",
       "      <td>1523.588850</td>\n",
       "      <td>2008.0</td>\n",
       "      <td>10.000000</td>\n",
       "      <td>17.250000</td>\n",
       "    </tr>\n",
       "    <tr>\n",
       "      <th>max</th>\n",
       "      <td>2118.123000</td>\n",
       "      <td>2008.0</td>\n",
       "      <td>12.000000</td>\n",
       "      <td>23.000000</td>\n",
       "    </tr>\n",
       "  </tbody>\n",
       "</table>\n",
       "</div>"
      ],
      "text/plain": [
       "            energy  green_year  green_month  green_hours\n",
       "count  7344.000000      7344.0  7344.000000  7344.000000\n",
       "mean   1383.936383      2008.0     7.500000    11.500000\n",
       "std     219.829865         0.0     2.874752     6.922658\n",
       "min     866.388600      2008.0     3.000000     0.000000\n",
       "25%    1226.145375      2008.0     5.000000     5.750000\n",
       "50%    1369.553550      2008.0     7.500000    11.500000\n",
       "75%    1523.588850      2008.0    10.000000    17.250000\n",
       "max    2118.123000      2008.0    12.000000    23.000000"
      ]
     },
     "execution_count": 18,
     "metadata": {},
     "output_type": "execute_result"
    }
   ],
   "source": [
    "green_energy_2008.describe()"
   ]
  },
  {
   "cell_type": "code",
   "execution_count": 19,
   "metadata": {},
   "outputs": [
    {
     "data": {
      "text/html": [
       "<div>\n",
       "<style scoped>\n",
       "    .dataframe tbody tr th:only-of-type {\n",
       "        vertical-align: middle;\n",
       "    }\n",
       "\n",
       "    .dataframe tbody tr th {\n",
       "        vertical-align: top;\n",
       "    }\n",
       "\n",
       "    .dataframe thead th {\n",
       "        text-align: right;\n",
       "    }\n",
       "</style>\n",
       "<table border=\"1\" class=\"dataframe\">\n",
       "  <thead>\n",
       "    <tr style=\"text-align: right;\">\n",
       "      <th></th>\n",
       "      <th>datetime</th>\n",
       "      <th>energy</th>\n",
       "      <th>green_year</th>\n",
       "      <th>green_month</th>\n",
       "      <th>green_hours</th>\n",
       "    </tr>\n",
       "  </thead>\n",
       "  <tbody>\n",
       "    <tr>\n",
       "      <th>7344</th>\n",
       "      <td>2009-01-01 00:00:00</td>\n",
       "      <td>1610.2674</td>\n",
       "      <td>2009</td>\n",
       "      <td>1</td>\n",
       "      <td>0</td>\n",
       "    </tr>\n",
       "    <tr>\n",
       "      <th>7345</th>\n",
       "      <td>2009-01-01 01:00:00</td>\n",
       "      <td>1471.4406</td>\n",
       "      <td>2009</td>\n",
       "      <td>1</td>\n",
       "      <td>1</td>\n",
       "    </tr>\n",
       "    <tr>\n",
       "      <th>7346</th>\n",
       "      <td>2009-01-01 02:00:00</td>\n",
       "      <td>1371.6864</td>\n",
       "      <td>2009</td>\n",
       "      <td>1</td>\n",
       "      <td>2</td>\n",
       "    </tr>\n",
       "    <tr>\n",
       "      <th>7347</th>\n",
       "      <td>2009-01-01 03:00:00</td>\n",
       "      <td>1301.6556</td>\n",
       "      <td>2009</td>\n",
       "      <td>1</td>\n",
       "      <td>3</td>\n",
       "    </tr>\n",
       "    <tr>\n",
       "      <th>7348</th>\n",
       "      <td>2009-01-01 04:00:00</td>\n",
       "      <td>1273.5198</td>\n",
       "      <td>2009</td>\n",
       "      <td>1</td>\n",
       "      <td>4</td>\n",
       "    </tr>\n",
       "  </tbody>\n",
       "</table>\n",
       "</div>"
      ],
      "text/plain": [
       "                datetime     energy  green_year  green_month  green_hours\n",
       "7344 2009-01-01 00:00:00  1610.2674        2009            1            0\n",
       "7345 2009-01-01 01:00:00  1471.4406        2009            1            1\n",
       "7346 2009-01-01 02:00:00  1371.6864        2009            1            2\n",
       "7347 2009-01-01 03:00:00  1301.6556        2009            1            3\n",
       "7348 2009-01-01 04:00:00  1273.5198        2009            1            4"
      ]
     },
     "execution_count": 19,
     "metadata": {},
     "output_type": "execute_result"
    }
   ],
   "source": [
    "green_energy_2009=green[(green['green_year']==2009)]\n",
    "green_energy_2009.head()"
   ]
  },
  {
   "cell_type": "code",
   "execution_count": 20,
   "metadata": {},
   "outputs": [
    {
     "data": {
      "text/html": [
       "<div>\n",
       "<style scoped>\n",
       "    .dataframe tbody tr th:only-of-type {\n",
       "        vertical-align: middle;\n",
       "    }\n",
       "\n",
       "    .dataframe tbody tr th {\n",
       "        vertical-align: top;\n",
       "    }\n",
       "\n",
       "    .dataframe thead th {\n",
       "        text-align: right;\n",
       "    }\n",
       "</style>\n",
       "<table border=\"1\" class=\"dataframe\">\n",
       "  <thead>\n",
       "    <tr style=\"text-align: right;\">\n",
       "      <th></th>\n",
       "      <th>energy</th>\n",
       "      <th>green_year</th>\n",
       "      <th>green_month</th>\n",
       "      <th>green_hours</th>\n",
       "    </tr>\n",
       "  </thead>\n",
       "  <tbody>\n",
       "    <tr>\n",
       "      <th>count</th>\n",
       "      <td>8760.000000</td>\n",
       "      <td>8760.0</td>\n",
       "      <td>8760.000000</td>\n",
       "      <td>8760.000000</td>\n",
       "    </tr>\n",
       "    <tr>\n",
       "      <th>mean</th>\n",
       "      <td>1466.798697</td>\n",
       "      <td>2009.0</td>\n",
       "      <td>6.526027</td>\n",
       "      <td>11.500000</td>\n",
       "    </tr>\n",
       "    <tr>\n",
       "      <th>std</th>\n",
       "      <td>233.773097</td>\n",
       "      <td>0.0</td>\n",
       "      <td>3.448048</td>\n",
       "      <td>6.922582</td>\n",
       "    </tr>\n",
       "    <tr>\n",
       "      <th>min</th>\n",
       "      <td>911.282400</td>\n",
       "      <td>2009.0</td>\n",
       "      <td>1.000000</td>\n",
       "      <td>0.000000</td>\n",
       "    </tr>\n",
       "    <tr>\n",
       "      <th>25%</th>\n",
       "      <td>1301.126400</td>\n",
       "      <td>2009.0</td>\n",
       "      <td>4.000000</td>\n",
       "      <td>5.750000</td>\n",
       "    </tr>\n",
       "    <tr>\n",
       "      <th>50%</th>\n",
       "      <td>1461.365100</td>\n",
       "      <td>2009.0</td>\n",
       "      <td>7.000000</td>\n",
       "      <td>11.500000</td>\n",
       "    </tr>\n",
       "    <tr>\n",
       "      <th>75%</th>\n",
       "      <td>1628.268700</td>\n",
       "      <td>2009.0</td>\n",
       "      <td>10.000000</td>\n",
       "      <td>17.250000</td>\n",
       "    </tr>\n",
       "    <tr>\n",
       "      <th>max</th>\n",
       "      <td>2357.505800</td>\n",
       "      <td>2009.0</td>\n",
       "      <td>12.000000</td>\n",
       "      <td>23.000000</td>\n",
       "    </tr>\n",
       "  </tbody>\n",
       "</table>\n",
       "</div>"
      ],
      "text/plain": [
       "            energy  green_year  green_month  green_hours\n",
       "count  8760.000000      8760.0  8760.000000  8760.000000\n",
       "mean   1466.798697      2009.0     6.526027    11.500000\n",
       "std     233.773097         0.0     3.448048     6.922582\n",
       "min     911.282400      2009.0     1.000000     0.000000\n",
       "25%    1301.126400      2009.0     4.000000     5.750000\n",
       "50%    1461.365100      2009.0     7.000000    11.500000\n",
       "75%    1628.268700      2009.0    10.000000    17.250000\n",
       "max    2357.505800      2009.0    12.000000    23.000000"
      ]
     },
     "execution_count": 20,
     "metadata": {},
     "output_type": "execute_result"
    }
   ],
   "source": [
    "green_energy_2009.describe()"
   ]
  },
  {
   "cell_type": "code",
   "execution_count": 21,
   "metadata": {},
   "outputs": [
    {
     "data": {
      "text/html": [
       "<div>\n",
       "<style scoped>\n",
       "    .dataframe tbody tr th:only-of-type {\n",
       "        vertical-align: middle;\n",
       "    }\n",
       "\n",
       "    .dataframe tbody tr th {\n",
       "        vertical-align: top;\n",
       "    }\n",
       "\n",
       "    .dataframe thead th {\n",
       "        text-align: right;\n",
       "    }\n",
       "</style>\n",
       "<table border=\"1\" class=\"dataframe\">\n",
       "  <thead>\n",
       "    <tr style=\"text-align: right;\">\n",
       "      <th></th>\n",
       "      <th>datetime</th>\n",
       "      <th>energy</th>\n",
       "      <th>green_year</th>\n",
       "      <th>green_month</th>\n",
       "      <th>green_hours</th>\n",
       "    </tr>\n",
       "  </thead>\n",
       "  <tbody>\n",
       "    <tr>\n",
       "      <th>16104</th>\n",
       "      <td>2010-01-01 00:00:00</td>\n",
       "      <td>1907.1104</td>\n",
       "      <td>2010</td>\n",
       "      <td>1</td>\n",
       "      <td>0</td>\n",
       "    </tr>\n",
       "    <tr>\n",
       "      <th>16105</th>\n",
       "      <td>2010-01-01 01:00:00</td>\n",
       "      <td>1771.7830</td>\n",
       "      <td>2010</td>\n",
       "      <td>1</td>\n",
       "      <td>1</td>\n",
       "    </tr>\n",
       "    <tr>\n",
       "      <th>16106</th>\n",
       "      <td>2010-01-01 02:00:00</td>\n",
       "      <td>1658.2826</td>\n",
       "      <td>2010</td>\n",
       "      <td>1</td>\n",
       "      <td>2</td>\n",
       "    </tr>\n",
       "    <tr>\n",
       "      <th>16107</th>\n",
       "      <td>2010-01-01 03:00:00</td>\n",
       "      <td>1584.3555</td>\n",
       "      <td>2010</td>\n",
       "      <td>1</td>\n",
       "      <td>3</td>\n",
       "    </tr>\n",
       "    <tr>\n",
       "      <th>16108</th>\n",
       "      <td>2010-01-01 04:00:00</td>\n",
       "      <td>1530.2625</td>\n",
       "      <td>2010</td>\n",
       "      <td>1</td>\n",
       "      <td>4</td>\n",
       "    </tr>\n",
       "  </tbody>\n",
       "</table>\n",
       "</div>"
      ],
      "text/plain": [
       "                 datetime     energy  green_year  green_month  green_hours\n",
       "16104 2010-01-01 00:00:00  1907.1104        2010            1            0\n",
       "16105 2010-01-01 01:00:00  1771.7830        2010            1            1\n",
       "16106 2010-01-01 02:00:00  1658.2826        2010            1            2\n",
       "16107 2010-01-01 03:00:00  1584.3555        2010            1            3\n",
       "16108 2010-01-01 04:00:00  1530.2625        2010            1            4"
      ]
     },
     "execution_count": 21,
     "metadata": {},
     "output_type": "execute_result"
    }
   ],
   "source": [
    "green_energy_2010=green[(green['green_year']==2010)]\n",
    "green_energy_2010.head()"
   ]
  },
  {
   "cell_type": "code",
   "execution_count": 22,
   "metadata": {},
   "outputs": [
    {
     "data": {
      "text/html": [
       "<div>\n",
       "<style scoped>\n",
       "    .dataframe tbody tr th:only-of-type {\n",
       "        vertical-align: middle;\n",
       "    }\n",
       "\n",
       "    .dataframe tbody tr th {\n",
       "        vertical-align: top;\n",
       "    }\n",
       "\n",
       "    .dataframe thead th {\n",
       "        text-align: right;\n",
       "    }\n",
       "</style>\n",
       "<table border=\"1\" class=\"dataframe\">\n",
       "  <thead>\n",
       "    <tr style=\"text-align: right;\">\n",
       "      <th></th>\n",
       "      <th>energy</th>\n",
       "      <th>green_year</th>\n",
       "      <th>green_month</th>\n",
       "      <th>green_hours</th>\n",
       "    </tr>\n",
       "  </thead>\n",
       "  <tbody>\n",
       "    <tr>\n",
       "      <th>count</th>\n",
       "      <td>8760.000000</td>\n",
       "      <td>8760.0</td>\n",
       "      <td>8760.000000</td>\n",
       "      <td>8760.000000</td>\n",
       "    </tr>\n",
       "    <tr>\n",
       "      <th>mean</th>\n",
       "      <td>1445.153492</td>\n",
       "      <td>2010.0</td>\n",
       "      <td>6.526027</td>\n",
       "      <td>11.500000</td>\n",
       "    </tr>\n",
       "    <tr>\n",
       "      <th>std</th>\n",
       "      <td>225.385342</td>\n",
       "      <td>0.0</td>\n",
       "      <td>3.448048</td>\n",
       "      <td>6.922582</td>\n",
       "    </tr>\n",
       "    <tr>\n",
       "      <th>min</th>\n",
       "      <td>921.844200</td>\n",
       "      <td>2010.0</td>\n",
       "      <td>1.000000</td>\n",
       "      <td>0.000000</td>\n",
       "    </tr>\n",
       "    <tr>\n",
       "      <th>25%</th>\n",
       "      <td>1286.553375</td>\n",
       "      <td>2010.0</td>\n",
       "      <td>4.000000</td>\n",
       "      <td>5.750000</td>\n",
       "    </tr>\n",
       "    <tr>\n",
       "      <th>50%</th>\n",
       "      <td>1440.158700</td>\n",
       "      <td>2010.0</td>\n",
       "      <td>7.000000</td>\n",
       "      <td>11.500000</td>\n",
       "    </tr>\n",
       "    <tr>\n",
       "      <th>75%</th>\n",
       "      <td>1599.729300</td>\n",
       "      <td>2010.0</td>\n",
       "      <td>10.000000</td>\n",
       "      <td>17.250000</td>\n",
       "    </tr>\n",
       "    <tr>\n",
       "      <th>max</th>\n",
       "      <td>2223.127400</td>\n",
       "      <td>2010.0</td>\n",
       "      <td>12.000000</td>\n",
       "      <td>23.000000</td>\n",
       "    </tr>\n",
       "  </tbody>\n",
       "</table>\n",
       "</div>"
      ],
      "text/plain": [
       "            energy  green_year  green_month  green_hours\n",
       "count  8760.000000      8760.0  8760.000000  8760.000000\n",
       "mean   1445.153492      2010.0     6.526027    11.500000\n",
       "std     225.385342         0.0     3.448048     6.922582\n",
       "min     921.844200      2010.0     1.000000     0.000000\n",
       "25%    1286.553375      2010.0     4.000000     5.750000\n",
       "50%    1440.158700      2010.0     7.000000    11.500000\n",
       "75%    1599.729300      2010.0    10.000000    17.250000\n",
       "max    2223.127400      2010.0    12.000000    23.000000"
      ]
     },
     "execution_count": 22,
     "metadata": {},
     "output_type": "execute_result"
    }
   ],
   "source": [
    "green_energy_2010.describe()"
   ]
  },
  {
   "cell_type": "code",
   "execution_count": 23,
   "metadata": {},
   "outputs": [
    {
     "data": {
      "text/html": [
       "<div>\n",
       "<style scoped>\n",
       "    .dataframe tbody tr th:only-of-type {\n",
       "        vertical-align: middle;\n",
       "    }\n",
       "\n",
       "    .dataframe tbody tr th {\n",
       "        vertical-align: top;\n",
       "    }\n",
       "\n",
       "    .dataframe thead th {\n",
       "        text-align: right;\n",
       "    }\n",
       "</style>\n",
       "<table border=\"1\" class=\"dataframe\">\n",
       "  <thead>\n",
       "    <tr style=\"text-align: right;\">\n",
       "      <th></th>\n",
       "      <th>datetime</th>\n",
       "      <th>energy</th>\n",
       "      <th>green_year</th>\n",
       "      <th>green_month</th>\n",
       "      <th>green_hours</th>\n",
       "    </tr>\n",
       "  </thead>\n",
       "  <tbody>\n",
       "    <tr>\n",
       "      <th>68688</th>\n",
       "      <td>2016-01-01 00:00:00</td>\n",
       "      <td>2002.2470</td>\n",
       "      <td>2016</td>\n",
       "      <td>1</td>\n",
       "      <td>0</td>\n",
       "    </tr>\n",
       "    <tr>\n",
       "      <th>68689</th>\n",
       "      <td>2016-01-01 01:00:00</td>\n",
       "      <td>1843.3870</td>\n",
       "      <td>2016</td>\n",
       "      <td>1</td>\n",
       "      <td>1</td>\n",
       "    </tr>\n",
       "    <tr>\n",
       "      <th>68690</th>\n",
       "      <td>2016-01-01 02:00:00</td>\n",
       "      <td>1735.1178</td>\n",
       "      <td>2016</td>\n",
       "      <td>1</td>\n",
       "      <td>2</td>\n",
       "    </tr>\n",
       "    <tr>\n",
       "      <th>68691</th>\n",
       "      <td>2016-01-01 03:00:00</td>\n",
       "      <td>1666.1970</td>\n",
       "      <td>2016</td>\n",
       "      <td>1</td>\n",
       "      <td>3</td>\n",
       "    </tr>\n",
       "    <tr>\n",
       "      <th>68692</th>\n",
       "      <td>2016-01-01 04:00:00</td>\n",
       "      <td>1630.3924</td>\n",
       "      <td>2016</td>\n",
       "      <td>1</td>\n",
       "      <td>4</td>\n",
       "    </tr>\n",
       "  </tbody>\n",
       "</table>\n",
       "</div>"
      ],
      "text/plain": [
       "                 datetime     energy  green_year  green_month  green_hours\n",
       "68688 2016-01-01 00:00:00  2002.2470        2016            1            0\n",
       "68689 2016-01-01 01:00:00  1843.3870        2016            1            1\n",
       "68690 2016-01-01 02:00:00  1735.1178        2016            1            2\n",
       "68691 2016-01-01 03:00:00  1666.1970        2016            1            3\n",
       "68692 2016-01-01 04:00:00  1630.3924        2016            1            4"
      ]
     },
     "execution_count": 23,
     "metadata": {},
     "output_type": "execute_result"
    }
   ],
   "source": [
    "green_energy_2016=green[(green['green_year']==2016)]\n",
    "green_energy_2016.head()"
   ]
  },
  {
   "cell_type": "code",
   "execution_count": 24,
   "metadata": {},
   "outputs": [
    {
     "data": {
      "text/html": [
       "<div>\n",
       "<style scoped>\n",
       "    .dataframe tbody tr th:only-of-type {\n",
       "        vertical-align: middle;\n",
       "    }\n",
       "\n",
       "    .dataframe tbody tr th {\n",
       "        vertical-align: top;\n",
       "    }\n",
       "\n",
       "    .dataframe thead th {\n",
       "        text-align: right;\n",
       "    }\n",
       "</style>\n",
       "<table border=\"1\" class=\"dataframe\">\n",
       "  <thead>\n",
       "    <tr style=\"text-align: right;\">\n",
       "      <th></th>\n",
       "      <th>energy</th>\n",
       "      <th>green_year</th>\n",
       "      <th>green_month</th>\n",
       "      <th>green_hours</th>\n",
       "    </tr>\n",
       "  </thead>\n",
       "  <tbody>\n",
       "    <tr>\n",
       "      <th>count</th>\n",
       "      <td>8784.000000</td>\n",
       "      <td>8784.0</td>\n",
       "      <td>8784.000000</td>\n",
       "      <td>8784.000000</td>\n",
       "    </tr>\n",
       "    <tr>\n",
       "      <th>mean</th>\n",
       "      <td>1904.586368</td>\n",
       "      <td>2016.0</td>\n",
       "      <td>6.513661</td>\n",
       "      <td>11.500000</td>\n",
       "    </tr>\n",
       "    <tr>\n",
       "      <th>std</th>\n",
       "      <td>298.453297</td>\n",
       "      <td>0.0</td>\n",
       "      <td>3.451430</td>\n",
       "      <td>6.922581</td>\n",
       "    </tr>\n",
       "    <tr>\n",
       "      <th>min</th>\n",
       "      <td>1234.220000</td>\n",
       "      <td>2016.0</td>\n",
       "      <td>1.000000</td>\n",
       "      <td>0.000000</td>\n",
       "    </tr>\n",
       "    <tr>\n",
       "      <th>25%</th>\n",
       "      <td>1690.248075</td>\n",
       "      <td>2016.0</td>\n",
       "      <td>4.000000</td>\n",
       "      <td>5.750000</td>\n",
       "    </tr>\n",
       "    <tr>\n",
       "      <th>50%</th>\n",
       "      <td>1881.778950</td>\n",
       "      <td>2016.0</td>\n",
       "      <td>7.000000</td>\n",
       "      <td>11.500000</td>\n",
       "    </tr>\n",
       "    <tr>\n",
       "      <th>75%</th>\n",
       "      <td>2108.221425</td>\n",
       "      <td>2016.0</td>\n",
       "      <td>10.000000</td>\n",
       "      <td>17.250000</td>\n",
       "    </tr>\n",
       "    <tr>\n",
       "      <th>max</th>\n",
       "      <td>2900.680200</td>\n",
       "      <td>2016.0</td>\n",
       "      <td>12.000000</td>\n",
       "      <td>23.000000</td>\n",
       "    </tr>\n",
       "  </tbody>\n",
       "</table>\n",
       "</div>"
      ],
      "text/plain": [
       "            energy  green_year  green_month  green_hours\n",
       "count  8784.000000      8784.0  8784.000000  8784.000000\n",
       "mean   1904.586368      2016.0     6.513661    11.500000\n",
       "std     298.453297         0.0     3.451430     6.922581\n",
       "min    1234.220000      2016.0     1.000000     0.000000\n",
       "25%    1690.248075      2016.0     4.000000     5.750000\n",
       "50%    1881.778950      2016.0     7.000000    11.500000\n",
       "75%    2108.221425      2016.0    10.000000    17.250000\n",
       "max    2900.680200      2016.0    12.000000    23.000000"
      ]
     },
     "execution_count": 24,
     "metadata": {},
     "output_type": "execute_result"
    }
   ],
   "source": [
    "green_energy_2016.describe()"
   ]
  },
  {
   "cell_type": "code",
   "execution_count": 25,
   "metadata": {},
   "outputs": [
    {
     "data": {
      "text/html": [
       "<div>\n",
       "<style scoped>\n",
       "    .dataframe tbody tr th:only-of-type {\n",
       "        vertical-align: middle;\n",
       "    }\n",
       "\n",
       "    .dataframe tbody tr th {\n",
       "        vertical-align: top;\n",
       "    }\n",
       "\n",
       "    .dataframe thead th {\n",
       "        text-align: right;\n",
       "    }\n",
       "</style>\n",
       "<table border=\"1\" class=\"dataframe\">\n",
       "  <thead>\n",
       "    <tr style=\"text-align: right;\">\n",
       "      <th></th>\n",
       "      <th>datetime</th>\n",
       "      <th>energy</th>\n",
       "      <th>green_year</th>\n",
       "      <th>green_month</th>\n",
       "      <th>green_hours</th>\n",
       "    </tr>\n",
       "  </thead>\n",
       "  <tbody>\n",
       "    <tr>\n",
       "      <th>77472</th>\n",
       "      <td>2017-01-01 00:00:00</td>\n",
       "      <td>1740.5604</td>\n",
       "      <td>2017</td>\n",
       "      <td>1</td>\n",
       "      <td>0</td>\n",
       "    </tr>\n",
       "    <tr>\n",
       "      <th>77473</th>\n",
       "      <td>2017-01-01 01:00:00</td>\n",
       "      <td>1618.2288</td>\n",
       "      <td>2017</td>\n",
       "      <td>1</td>\n",
       "      <td>1</td>\n",
       "    </tr>\n",
       "    <tr>\n",
       "      <th>77474</th>\n",
       "      <td>2017-01-01 02:00:00</td>\n",
       "      <td>1534.7286</td>\n",
       "      <td>2017</td>\n",
       "      <td>1</td>\n",
       "      <td>2</td>\n",
       "    </tr>\n",
       "    <tr>\n",
       "      <th>77475</th>\n",
       "      <td>2017-01-01 03:00:00</td>\n",
       "      <td>1480.2885</td>\n",
       "      <td>2017</td>\n",
       "      <td>1</td>\n",
       "      <td>3</td>\n",
       "    </tr>\n",
       "    <tr>\n",
       "      <th>77476</th>\n",
       "      <td>2017-01-01 04:00:00</td>\n",
       "      <td>1452.6243</td>\n",
       "      <td>2017</td>\n",
       "      <td>1</td>\n",
       "      <td>4</td>\n",
       "    </tr>\n",
       "  </tbody>\n",
       "</table>\n",
       "</div>"
      ],
      "text/plain": [
       "                 datetime     energy  green_year  green_month  green_hours\n",
       "77472 2017-01-01 00:00:00  1740.5604        2017            1            0\n",
       "77473 2017-01-01 01:00:00  1618.2288        2017            1            1\n",
       "77474 2017-01-01 02:00:00  1534.7286        2017            1            2\n",
       "77475 2017-01-01 03:00:00  1480.2885        2017            1            3\n",
       "77476 2017-01-01 04:00:00  1452.6243        2017            1            4"
      ]
     },
     "execution_count": 25,
     "metadata": {},
     "output_type": "execute_result"
    }
   ],
   "source": [
    "green_energy_2017=green[(green['green_year']==2017)]\n",
    "green_energy_2017.head()"
   ]
  },
  {
   "cell_type": "code",
   "execution_count": 26,
   "metadata": {},
   "outputs": [
    {
     "data": {
      "text/html": [
       "<div>\n",
       "<style scoped>\n",
       "    .dataframe tbody tr th:only-of-type {\n",
       "        vertical-align: middle;\n",
       "    }\n",
       "\n",
       "    .dataframe tbody tr th {\n",
       "        vertical-align: top;\n",
       "    }\n",
       "\n",
       "    .dataframe thead th {\n",
       "        text-align: right;\n",
       "    }\n",
       "</style>\n",
       "<table border=\"1\" class=\"dataframe\">\n",
       "  <thead>\n",
       "    <tr style=\"text-align: right;\">\n",
       "      <th></th>\n",
       "      <th>energy</th>\n",
       "      <th>green_year</th>\n",
       "      <th>green_month</th>\n",
       "      <th>green_hours</th>\n",
       "    </tr>\n",
       "  </thead>\n",
       "  <tbody>\n",
       "    <tr>\n",
       "      <th>count</th>\n",
       "      <td>8760.000000</td>\n",
       "      <td>8760.0</td>\n",
       "      <td>8760.000000</td>\n",
       "      <td>8760.000000</td>\n",
       "    </tr>\n",
       "    <tr>\n",
       "      <th>mean</th>\n",
       "      <td>1964.847151</td>\n",
       "      <td>2017.0</td>\n",
       "      <td>6.526027</td>\n",
       "      <td>11.500000</td>\n",
       "    </tr>\n",
       "    <tr>\n",
       "      <th>std</th>\n",
       "      <td>343.795376</td>\n",
       "      <td>0.0</td>\n",
       "      <td>3.448048</td>\n",
       "      <td>6.922582</td>\n",
       "    </tr>\n",
       "    <tr>\n",
       "      <th>min</th>\n",
       "      <td>1243.746900</td>\n",
       "      <td>2017.0</td>\n",
       "      <td>1.000000</td>\n",
       "      <td>0.000000</td>\n",
       "    </tr>\n",
       "    <tr>\n",
       "      <th>25%</th>\n",
       "      <td>1702.995014</td>\n",
       "      <td>2017.0</td>\n",
       "      <td>4.000000</td>\n",
       "      <td>5.750000</td>\n",
       "    </tr>\n",
       "    <tr>\n",
       "      <th>50%</th>\n",
       "      <td>1926.480650</td>\n",
       "      <td>2017.0</td>\n",
       "      <td>7.000000</td>\n",
       "      <td>11.500000</td>\n",
       "    </tr>\n",
       "    <tr>\n",
       "      <th>75%</th>\n",
       "      <td>2181.434500</td>\n",
       "      <td>2017.0</td>\n",
       "      <td>10.000000</td>\n",
       "      <td>17.250000</td>\n",
       "    </tr>\n",
       "    <tr>\n",
       "      <th>max</th>\n",
       "      <td>3213.803600</td>\n",
       "      <td>2017.0</td>\n",
       "      <td>12.000000</td>\n",
       "      <td>23.000000</td>\n",
       "    </tr>\n",
       "  </tbody>\n",
       "</table>\n",
       "</div>"
      ],
      "text/plain": [
       "            energy  green_year  green_month  green_hours\n",
       "count  8760.000000      8760.0  8760.000000  8760.000000\n",
       "mean   1964.847151      2017.0     6.526027    11.500000\n",
       "std     343.795376         0.0     3.448048     6.922582\n",
       "min    1243.746900      2017.0     1.000000     0.000000\n",
       "25%    1702.995014      2017.0     4.000000     5.750000\n",
       "50%    1926.480650      2017.0     7.000000    11.500000\n",
       "75%    2181.434500      2017.0    10.000000    17.250000\n",
       "max    3213.803600      2017.0    12.000000    23.000000"
      ]
     },
     "execution_count": 26,
     "metadata": {},
     "output_type": "execute_result"
    }
   ],
   "source": [
    "green_energy_2017.describe()"
   ]
  },
  {
   "cell_type": "code",
   "execution_count": 27,
   "metadata": {},
   "outputs": [
    {
     "data": {
      "text/html": [
       "<div>\n",
       "<style scoped>\n",
       "    .dataframe tbody tr th:only-of-type {\n",
       "        vertical-align: middle;\n",
       "    }\n",
       "\n",
       "    .dataframe tbody tr th {\n",
       "        vertical-align: top;\n",
       "    }\n",
       "\n",
       "    .dataframe thead th {\n",
       "        text-align: right;\n",
       "    }\n",
       "</style>\n",
       "<table border=\"1\" class=\"dataframe\">\n",
       "  <thead>\n",
       "    <tr style=\"text-align: right;\">\n",
       "      <th></th>\n",
       "      <th>datetime</th>\n",
       "      <th>energy</th>\n",
       "      <th>green_year</th>\n",
       "      <th>green_month</th>\n",
       "      <th>green_hours</th>\n",
       "    </tr>\n",
       "  </thead>\n",
       "  <tbody>\n",
       "    <tr>\n",
       "      <th>86232</th>\n",
       "      <td>2018-01-01 00:00:00</td>\n",
       "      <td>1642.762800</td>\n",
       "      <td>2018</td>\n",
       "      <td>1</td>\n",
       "      <td>0</td>\n",
       "    </tr>\n",
       "    <tr>\n",
       "      <th>86233</th>\n",
       "      <td>2018-01-01 01:00:00</td>\n",
       "      <td>1702.995014</td>\n",
       "      <td>2018</td>\n",
       "      <td>1</td>\n",
       "      <td>1</td>\n",
       "    </tr>\n",
       "    <tr>\n",
       "      <th>86234</th>\n",
       "      <td>2018-01-01 02:00:00</td>\n",
       "      <td>1463.655200</td>\n",
       "      <td>2018</td>\n",
       "      <td>1</td>\n",
       "      <td>2</td>\n",
       "    </tr>\n",
       "    <tr>\n",
       "      <th>86235</th>\n",
       "      <td>2018-01-01 03:00:00</td>\n",
       "      <td>1413.120800</td>\n",
       "      <td>2018</td>\n",
       "      <td>1</td>\n",
       "      <td>3</td>\n",
       "    </tr>\n",
       "    <tr>\n",
       "      <th>86236</th>\n",
       "      <td>2018-01-01 04:00:00</td>\n",
       "      <td>1385.879600</td>\n",
       "      <td>2018</td>\n",
       "      <td>1</td>\n",
       "      <td>4</td>\n",
       "    </tr>\n",
       "    <tr>\n",
       "      <th>...</th>\n",
       "      <td>...</td>\n",
       "      <td>...</td>\n",
       "      <td>...</td>\n",
       "      <td>...</td>\n",
       "      <td>...</td>\n",
       "    </tr>\n",
       "    <tr>\n",
       "      <th>94987</th>\n",
       "      <td>2018-12-31 19:00:00</td>\n",
       "      <td>2528.446800</td>\n",
       "      <td>2018</td>\n",
       "      <td>12</td>\n",
       "      <td>19</td>\n",
       "    </tr>\n",
       "    <tr>\n",
       "      <th>94988</th>\n",
       "      <td>2018-12-31 20:00:00</td>\n",
       "      <td>2461.883600</td>\n",
       "      <td>2018</td>\n",
       "      <td>12</td>\n",
       "      <td>20</td>\n",
       "    </tr>\n",
       "    <tr>\n",
       "      <th>94989</th>\n",
       "      <td>2018-12-31 21:00:00</td>\n",
       "      <td>2365.994400</td>\n",
       "      <td>2018</td>\n",
       "      <td>12</td>\n",
       "      <td>21</td>\n",
       "    </tr>\n",
       "    <tr>\n",
       "      <th>94990</th>\n",
       "      <td>2018-12-31 22:00:00</td>\n",
       "      <td>2342.942800</td>\n",
       "      <td>2018</td>\n",
       "      <td>12</td>\n",
       "      <td>22</td>\n",
       "    </tr>\n",
       "    <tr>\n",
       "      <th>94991</th>\n",
       "      <td>2018-12-31 23:00:00</td>\n",
       "      <td>2180.217600</td>\n",
       "      <td>2018</td>\n",
       "      <td>12</td>\n",
       "      <td>23</td>\n",
       "    </tr>\n",
       "  </tbody>\n",
       "</table>\n",
       "<p>8760 rows × 5 columns</p>\n",
       "</div>"
      ],
      "text/plain": [
       "                 datetime       energy  green_year  green_month  green_hours\n",
       "86232 2018-01-01 00:00:00  1642.762800        2018            1            0\n",
       "86233 2018-01-01 01:00:00  1702.995014        2018            1            1\n",
       "86234 2018-01-01 02:00:00  1463.655200        2018            1            2\n",
       "86235 2018-01-01 03:00:00  1413.120800        2018            1            3\n",
       "86236 2018-01-01 04:00:00  1385.879600        2018            1            4\n",
       "...                   ...          ...         ...          ...          ...\n",
       "94987 2018-12-31 19:00:00  2528.446800        2018           12           19\n",
       "94988 2018-12-31 20:00:00  2461.883600        2018           12           20\n",
       "94989 2018-12-31 21:00:00  2365.994400        2018           12           21\n",
       "94990 2018-12-31 22:00:00  2342.942800        2018           12           22\n",
       "94991 2018-12-31 23:00:00  2180.217600        2018           12           23\n",
       "\n",
       "[8760 rows x 5 columns]"
      ]
     },
     "execution_count": 27,
     "metadata": {},
     "output_type": "execute_result"
    }
   ],
   "source": [
    "green_energy_2018=green[(green['green_year']==2018)]\n",
    "green_energy_2018"
   ]
  },
  {
   "cell_type": "code",
   "execution_count": 28,
   "metadata": {},
   "outputs": [
    {
     "data": {
      "text/html": [
       "<div>\n",
       "<style scoped>\n",
       "    .dataframe tbody tr th:only-of-type {\n",
       "        vertical-align: middle;\n",
       "    }\n",
       "\n",
       "    .dataframe tbody tr th {\n",
       "        vertical-align: top;\n",
       "    }\n",
       "\n",
       "    .dataframe thead th {\n",
       "        text-align: right;\n",
       "    }\n",
       "</style>\n",
       "<table border=\"1\" class=\"dataframe\">\n",
       "  <thead>\n",
       "    <tr style=\"text-align: right;\">\n",
       "      <th></th>\n",
       "      <th>energy</th>\n",
       "      <th>green_year</th>\n",
       "      <th>green_month</th>\n",
       "      <th>green_hours</th>\n",
       "    </tr>\n",
       "  </thead>\n",
       "  <tbody>\n",
       "    <tr>\n",
       "      <th>count</th>\n",
       "      <td>8760.000000</td>\n",
       "      <td>8760.0</td>\n",
       "      <td>8760.000000</td>\n",
       "      <td>8760.000000</td>\n",
       "    </tr>\n",
       "    <tr>\n",
       "      <th>mean</th>\n",
       "      <td>2031.270173</td>\n",
       "      <td>2018.0</td>\n",
       "      <td>6.526027</td>\n",
       "      <td>11.500000</td>\n",
       "    </tr>\n",
       "    <tr>\n",
       "      <th>std</th>\n",
       "      <td>351.679407</td>\n",
       "      <td>0.0</td>\n",
       "      <td>3.448048</td>\n",
       "      <td>6.922582</td>\n",
       "    </tr>\n",
       "    <tr>\n",
       "      <th>min</th>\n",
       "      <td>1295.207200</td>\n",
       "      <td>2018.0</td>\n",
       "      <td>1.000000</td>\n",
       "      <td>0.000000</td>\n",
       "    </tr>\n",
       "    <tr>\n",
       "      <th>25%</th>\n",
       "      <td>1763.091100</td>\n",
       "      <td>2018.0</td>\n",
       "      <td>4.000000</td>\n",
       "      <td>5.750000</td>\n",
       "    </tr>\n",
       "    <tr>\n",
       "      <th>50%</th>\n",
       "      <td>1980.119400</td>\n",
       "      <td>2018.0</td>\n",
       "      <td>7.000000</td>\n",
       "      <td>11.500000</td>\n",
       "    </tr>\n",
       "    <tr>\n",
       "      <th>75%</th>\n",
       "      <td>2268.147000</td>\n",
       "      <td>2018.0</td>\n",
       "      <td>10.000000</td>\n",
       "      <td>17.250000</td>\n",
       "    </tr>\n",
       "    <tr>\n",
       "      <th>max</th>\n",
       "      <td>3374.399600</td>\n",
       "      <td>2018.0</td>\n",
       "      <td>12.000000</td>\n",
       "      <td>23.000000</td>\n",
       "    </tr>\n",
       "  </tbody>\n",
       "</table>\n",
       "</div>"
      ],
      "text/plain": [
       "            energy  green_year  green_month  green_hours\n",
       "count  8760.000000      8760.0  8760.000000  8760.000000\n",
       "mean   2031.270173      2018.0     6.526027    11.500000\n",
       "std     351.679407         0.0     3.448048     6.922582\n",
       "min    1295.207200      2018.0     1.000000     0.000000\n",
       "25%    1763.091100      2018.0     4.000000     5.750000\n",
       "50%    1980.119400      2018.0     7.000000    11.500000\n",
       "75%    2268.147000      2018.0    10.000000    17.250000\n",
       "max    3374.399600      2018.0    12.000000    23.000000"
      ]
     },
     "execution_count": 28,
     "metadata": {},
     "output_type": "execute_result"
    }
   ],
   "source": [
    "green_energy_2018.describe()"
   ]
  },
  {
   "cell_type": "markdown",
   "metadata": {},
   "source": [
    "By perfoming EDA(exploratory data analysis), we can see there is increase in Mean and Max value from staring three years(2008 to 2010) to ending years(2016 to 2018) but  change is constant not drastic . That means their is upward tread and data is not stationary."
   ]
  },
  {
   "cell_type": "code",
   "execution_count": 29,
   "metadata": {},
   "outputs": [],
   "source": [
    "green_new=pd.read_csv(r'G:\\job_test\\train_1.csv',parse_dates=['datetime'],index_col='datetime')\n",
    "\n",
    "green_new.drop(columns=\"row_id\",inplace=True)"
   ]
  },
  {
   "cell_type": "code",
   "execution_count": 30,
   "metadata": {},
   "outputs": [],
   "source": [
    "import sklearn\n",
    "from sklearn.impute import SimpleImputer\n",
    "imputer= SimpleImputer(strategy='mean',missing_values=np.nan)\n",
    "imputer=imputer.fit(green[['energy']])\n",
    "green_new['energy']=imputer.transform(green_new[['energy']])"
   ]
  },
  {
   "cell_type": "code",
   "execution_count": 31,
   "metadata": {},
   "outputs": [
    {
     "data": {
      "text/plain": [
       "<AxesSubplot:xlabel='datetime', ylabel='energy'>"
      ]
     },
     "execution_count": 31,
     "metadata": {},
     "output_type": "execute_result"
    },
    {
     "data": {
      "image/png": "[encoded data removed]",
      "text/plain": [
       "<Figure size 720x720 with 1 Axes>"
      ]
     },
     "metadata": {
      "needs_background": "light"
     },
     "output_type": "display_data"
    }
   ],
   "source": [
    "plt.figure(figsize=(10,10))\n",
    "sns.lineplot(data=green_new,x='datetime',y='energy')"
   ]
  },
  {
   "cell_type": "markdown",
   "metadata": {},
   "source": [
    "there is upward trend."
   ]
  },
  {
   "cell_type": "code",
   "execution_count": 32,
   "metadata": {},
   "outputs": [
    {
     "data": {
      "text/html": [
       "<div>\n",
       "<style scoped>\n",
       "    .dataframe tbody tr th:only-of-type {\n",
       "        vertical-align: middle;\n",
       "    }\n",
       "\n",
       "    .dataframe tbody tr th {\n",
       "        vertical-align: top;\n",
       "    }\n",
       "\n",
       "    .dataframe thead th {\n",
       "        text-align: right;\n",
       "    }\n",
       "</style>\n",
       "<table border=\"1\" class=\"dataframe\">\n",
       "  <thead>\n",
       "    <tr style=\"text-align: right;\">\n",
       "      <th></th>\n",
       "      <th>energy</th>\n",
       "    </tr>\n",
       "    <tr>\n",
       "      <th>datetime</th>\n",
       "      <th></th>\n",
       "    </tr>\n",
       "  </thead>\n",
       "  <tbody>\n",
       "    <tr>\n",
       "      <th>2008-03-01 00:00:00</th>\n",
       "      <td>1259.985563</td>\n",
       "    </tr>\n",
       "    <tr>\n",
       "      <th>2008-03-01 01:00:00</th>\n",
       "      <td>1095.541500</td>\n",
       "    </tr>\n",
       "    <tr>\n",
       "      <th>2008-03-01 02:00:00</th>\n",
       "      <td>1056.247500</td>\n",
       "    </tr>\n",
       "    <tr>\n",
       "      <th>2008-03-01 03:00:00</th>\n",
       "      <td>1034.742000</td>\n",
       "    </tr>\n",
       "    <tr>\n",
       "      <th>2008-03-01 04:00:00</th>\n",
       "      <td>1026.334500</td>\n",
       "    </tr>\n",
       "  </tbody>\n",
       "</table>\n",
       "</div>"
      ],
      "text/plain": [
       "                          energy\n",
       "datetime                        \n",
       "2008-03-01 00:00:00  1259.985563\n",
       "2008-03-01 01:00:00  1095.541500\n",
       "2008-03-01 02:00:00  1056.247500\n",
       "2008-03-01 03:00:00  1034.742000\n",
       "2008-03-01 04:00:00  1026.334500"
      ]
     },
     "execution_count": 32,
     "metadata": {},
     "output_type": "execute_result"
    }
   ],
   "source": [
    "green_new.head()"
   ]
  },
  {
   "cell_type": "markdown",
   "metadata": {},
   "source": [
    "Convert non-stationary data to stationary"
   ]
  },
  {
   "cell_type": "code",
   "execution_count": 33,
   "metadata": {},
   "outputs": [
    {
     "name": "stdout",
     "output_type": "stream",
     "text": [
      "                          energy\n",
      "datetime                        \n",
      "2008-03-01 00:00:00          NaN\n",
      "2008-03-01 01:00:00          NaN\n",
      "2008-03-01 02:00:00          NaN\n",
      "2008-03-01 03:00:00          NaN\n",
      "2008-03-01 04:00:00          NaN\n",
      "...                          ...\n",
      "2018-12-31 19:00:00  2232.101471\n",
      "2018-12-31 20:00:00  2231.640327\n",
      "2018-12-31 21:00:00  2230.731118\n",
      "2018-12-31 22:00:00  2229.661219\n",
      "2018-12-31 23:00:00  2228.162314\n",
      "\n",
      "[94992 rows x 1 columns]                          energy\n",
      "datetime                       \n",
      "2008-03-01 00:00:00         NaN\n",
      "2008-03-01 01:00:00         NaN\n",
      "2008-03-01 02:00:00         NaN\n",
      "2008-03-01 03:00:00         NaN\n",
      "2008-03-01 04:00:00         NaN\n",
      "...                         ...\n",
      "2018-12-31 19:00:00  399.600568\n",
      "2018-12-31 20:00:00  399.236848\n",
      "2018-12-31 21:00:00  398.549481\n",
      "2018-12-31 22:00:00  397.719516\n",
      "2018-12-31 23:00:00  396.868852\n",
      "\n",
      "[94992 rows x 1 columns]\n"
     ]
    }
   ],
   "source": [
    "green_mean=green_new.rolling(window=365).mean()\n",
    "green_std=green_new.rolling(window=365).std()\n",
    "print(green_mean,green_std)"
   ]
  },
  {
   "cell_type": "code",
   "execution_count": 34,
   "metadata": {},
   "outputs": [
    {
     "data": {
      "text/plain": [
       "<function matplotlib.pyplot.show(close=None, block=None)>"
      ]
     },
     "execution_count": 34,
     "metadata": {},
     "output_type": "execute_result"
    },
    {
     "data": {
      "image/png": "[encoded data removed]",
      "text/plain": [
       "<Figure size 432x288 with 1 Axes>"
      ]
     },
     "metadata": {
      "needs_background": "light"
     },
     "output_type": "display_data"
    }
   ],
   "source": [
    "original_green=plt.plot(green_new,color='blue',label=\"original\")\n",
    "mean=plt.plot(green_mean,color='red',label=\"Rolling mean\")\n",
    "standard_dev=plt.plot(green_std,color='black',label=\"Rolling standard_dev\")\n",
    "plt.legend(loc='best')\n",
    "plt.title('Rolling mean and standard_dev')\n",
    "plt.show"
   ]
  },
  {
   "cell_type": "markdown",
   "metadata": {},
   "source": [
    "Performing dickey-Fuller Test :\n",
    "Null hypothesis : Data is not stationary ,\n",
    "Alternate hypothesis : Data is  Stationary\n"
   ]
  },
  {
   "cell_type": "code",
   "execution_count": 35,
   "metadata": {},
   "outputs": [
    {
     "name": "stdout",
     "output_type": "stream",
     "text": [
      "result of Dickey Fuller test: \n",
      "Test Statistic               -9.779563e+00\n",
      "p_value                       6.790459e-17\n",
      "lags used                     6.700000e+01\n",
      "number of observation used    9.492400e+04\n",
      "Critics Value (1%)           -3.430419e+00\n",
      "Critics Value (5%)           -2.861570e+00\n",
      "Critics Value (10%)          -2.566786e+00\n",
      "dtype: float64\n"
     ]
    }
   ],
   "source": [
    "from  statsmodels.tsa.stattools import adfuller\n",
    "print('result of Dickey Fuller test: ')\n",
    "green_test=adfuller(green_new[\"energy\"],autolag='AIC')\n",
    "green_output=pd.Series(green_test[0:4],index=['Test Statistic','p_value','lags used','number of observation used'])\n",
    "for key,value in green_test[4].items():\n",
    "    green_output['Critics Value (%s)'%key ]=value\n",
    " \n",
    "print(green_output)\n"
   ]
  },
  {
   "cell_type": "markdown",
   "metadata": {},
   "source": [
    "Null hypothesis will not be rejected and data is not stationary"
   ]
  },
  {
   "cell_type": "code",
   "execution_count": 36,
   "metadata": {},
   "outputs": [
    {
     "data": {
      "text/plain": [
       "<AxesSubplot:xlabel='datetime'>"
      ]
     },
     "execution_count": 36,
     "metadata": {},
     "output_type": "execute_result"
    },
    {
     "data": {
      "image/png": "[encoded data removed]",
      "text/plain": [
       "<Figure size 432x288 with 1 Axes>"
      ]
     },
     "metadata": {
      "needs_background": "light"
     },
     "output_type": "display_data"
    }
   ],
   "source": [
    "green_new_log=np.log(green_new)\n",
    "green_new_log.plot()"
   ]
  },
  {
   "cell_type": "code",
   "execution_count": 37,
   "metadata": {},
   "outputs": [
    {
     "name": "stdout",
     "output_type": "stream",
     "text": [
      "                       energy\n",
      "datetime                     \n",
      "2008-03-01 00:00:00       NaN\n",
      "2008-03-01 01:00:00       NaN\n",
      "2008-03-01 02:00:00       NaN\n",
      "2008-03-01 03:00:00       NaN\n",
      "2008-03-01 04:00:00       NaN\n",
      "...                       ...\n",
      "2018-12-31 19:00:00  7.694121\n",
      "2018-12-31 20:00:00  7.693939\n",
      "2018-12-31 21:00:00  7.693580\n",
      "2018-12-31 22:00:00  7.693157\n",
      "2018-12-31 23:00:00  7.692544\n",
      "\n",
      "[94992 rows x 1 columns]                        energy\n",
      "datetime                     \n",
      "2008-03-01 00:00:00       NaN\n",
      "2008-03-01 01:00:00       NaN\n",
      "2008-03-01 02:00:00       NaN\n",
      "2008-03-01 03:00:00       NaN\n",
      "2008-03-01 04:00:00       NaN\n",
      "...                       ...\n",
      "2018-12-31 19:00:00  0.184170\n",
      "2018-12-31 20:00:00  0.184024\n",
      "2018-12-31 21:00:00  0.183748\n",
      "2018-12-31 22:00:00  0.183418\n",
      "2018-12-31 23:00:00  0.183062\n",
      "\n",
      "[94992 rows x 1 columns]\n"
     ]
    }
   ],
   "source": [
    "movingAvg=green_new_log.rolling(window=365).mean()\n",
    "movingStd=green_new_log.rolling(window=365).std()\n",
    "print(movingAvg,movingStd)"
   ]
  },
  {
   "cell_type": "code",
   "execution_count": 38,
   "metadata": {},
   "outputs": [
    {
     "data": {
      "text/plain": [
       "[<matplotlib.lines.Line2D at 0x788d3afb80>]"
      ]
     },
     "execution_count": 38,
     "metadata": {},
     "output_type": "execute_result"
    },
    {
     "data": {
      "image/png": "[encoded data removed]",
      "text/plain": [
       "<Figure size 432x288 with 1 Axes>"
      ]
     },
     "metadata": {
      "needs_background": "light"
     },
     "output_type": "display_data"
    }
   ],
   "source": [
    "plt.plot(green_new_log)\n",
    "plt.plot(movingAvg,color=\"red\")"
   ]
  },
  {
   "cell_type": "markdown",
   "metadata": {},
   "source": [
    "data is still not stationary"
   ]
  },
  {
   "cell_type": "code",
   "execution_count": 39,
   "metadata": {},
   "outputs": [
    {
     "data": {
      "text/html": [
       "<div>\n",
       "<style scoped>\n",
       "    .dataframe tbody tr th:only-of-type {\n",
       "        vertical-align: middle;\n",
       "    }\n",
       "\n",
       "    .dataframe tbody tr th {\n",
       "        vertical-align: top;\n",
       "    }\n",
       "\n",
       "    .dataframe thead th {\n",
       "        text-align: right;\n",
       "    }\n",
       "</style>\n",
       "<table border=\"1\" class=\"dataframe\">\n",
       "  <thead>\n",
       "    <tr style=\"text-align: right;\">\n",
       "      <th></th>\n",
       "      <th>energy</th>\n",
       "    </tr>\n",
       "    <tr>\n",
       "      <th>datetime</th>\n",
       "      <th></th>\n",
       "    </tr>\n",
       "  </thead>\n",
       "  <tbody>\n",
       "    <tr>\n",
       "      <th>2008-03-16 04:00:00</th>\n",
       "      <td>-0.153514</td>\n",
       "    </tr>\n",
       "    <tr>\n",
       "      <th>2008-03-16 05:00:00</th>\n",
       "      <td>-0.152601</td>\n",
       "    </tr>\n",
       "    <tr>\n",
       "      <th>2008-03-16 06:00:00</th>\n",
       "      <td>-0.133229</td>\n",
       "    </tr>\n",
       "    <tr>\n",
       "      <th>2008-03-16 07:00:00</th>\n",
       "      <td>-0.092901</td>\n",
       "    </tr>\n",
       "    <tr>\n",
       "      <th>2008-03-16 08:00:00</th>\n",
       "      <td>-0.035650</td>\n",
       "    </tr>\n",
       "    <tr>\n",
       "      <th>2008-03-16 09:00:00</th>\n",
       "      <td>0.013761</td>\n",
       "    </tr>\n",
       "    <tr>\n",
       "      <th>2008-03-16 10:00:00</th>\n",
       "      <td>0.049123</td>\n",
       "    </tr>\n",
       "    <tr>\n",
       "      <th>2008-03-16 11:00:00</th>\n",
       "      <td>0.060757</td>\n",
       "    </tr>\n",
       "    <tr>\n",
       "      <th>2008-03-16 12:00:00</th>\n",
       "      <td>0.056896</td>\n",
       "    </tr>\n",
       "    <tr>\n",
       "      <th>2008-03-16 13:00:00</th>\n",
       "      <td>0.036250</td>\n",
       "    </tr>\n",
       "  </tbody>\n",
       "</table>\n",
       "</div>"
      ],
      "text/plain": [
       "                       energy\n",
       "datetime                     \n",
       "2008-03-16 04:00:00 -0.153514\n",
       "2008-03-16 05:00:00 -0.152601\n",
       "2008-03-16 06:00:00 -0.133229\n",
       "2008-03-16 07:00:00 -0.092901\n",
       "2008-03-16 08:00:00 -0.035650\n",
       "2008-03-16 09:00:00  0.013761\n",
       "2008-03-16 10:00:00  0.049123\n",
       "2008-03-16 11:00:00  0.060757\n",
       "2008-03-16 12:00:00  0.056896\n",
       "2008-03-16 13:00:00  0.036250"
      ]
     },
     "execution_count": 39,
     "metadata": {},
     "output_type": "execute_result"
    }
   ],
   "source": [
    "green_new_log_minus_moving_avg=green_new_log-movingAvg\n",
    "green_new_log_minus_moving_avg.head(12)\n",
    "\n",
    "\n",
    "green_new_log_minus_moving_avg.dropna(inplace=True)\n",
    "green_new_log_minus_moving_avg.head(10)"
   ]
  },
  {
   "cell_type": "code",
   "execution_count": 40,
   "metadata": {},
   "outputs": [
    {
     "name": "stdout",
     "output_type": "stream",
     "text": [
      "result of Dickey Fuller test: \n",
      "Test Statistic                  -24.769674\n",
      "p_value                           0.000000\n",
      "lags used                        67.000000\n",
      "number of observation used    94560.000000\n",
      "Critics Value (1%)               -3.430419\n",
      "Critics Value (5%)               -2.861571\n",
      "Critics Value (10%)              -2.566786\n",
      "dtype: float64\n"
     ]
    },
    {
     "data": {
      "image/png": "[encoded data removed]",
      "text/plain": [
       "<Figure size 432x288 with 1 Axes>"
      ]
     },
     "metadata": {
      "needs_background": "light"
     },
     "output_type": "display_data"
    }
   ],
   "source": [
    "def green_function(earth):\n",
    "    movingAvg=earth.rolling(window=365).mean()\n",
    "    movingStd=earth.rolling(window=365).std()\n",
    "\n",
    "    original_green=plt.plot(earth,color='blue',label=\"original\")\n",
    "    mean=plt.plot(green_mean,color='red',label=\"Rolling mean\")\n",
    "    standard_dev=plt.plot(green_std,color='black',label=\"Rolling standard_dev\")\n",
    "    plt.legend(loc='best')\n",
    "    plt.title('Rolling mean and standard_dev')\n",
    "    plt.show\n",
    "\n",
    "    print('result of Dickey Fuller test: ')\n",
    "    green_test=adfuller(earth[\"energy\"],autolag='AIC')\n",
    "    green_output=pd.Series(green_test[0:4],index=['Test Statistic','p_value','lags used','number of observation used'])\n",
    "    for key,value in green_test[4].items():\n",
    "        green_output['Critics Value (%s)'%key ]=value\n",
    " \n",
    "    print(green_output)\n",
    "\n",
    "green_function(green_new_log_minus_moving_avg)\n",
    "\n",
    "\n",
    "\n",
    "    \n",
    "    \n",
    "\n"
   ]
  },
  {
   "cell_type": "code",
   "execution_count": 41,
   "metadata": {},
   "outputs": [
    {
     "data": {
      "text/plain": [
       "[<matplotlib.lines.Line2D at 0x788d3d7d30>]"
      ]
     },
     "execution_count": 41,
     "metadata": {},
     "output_type": "execute_result"
    },
    {
     "data": {
      "image/png": "[encoded data removed]",
      "text/plain": [
       "<Figure size 432x288 with 1 Axes>"
      ]
     },
     "metadata": {
      "needs_background": "light"
     },
     "output_type": "display_data"
    }
   ],
   "source": [
    "plt.plot(green_new_log_minus_moving_avg)"
   ]
  },
  {
   "cell_type": "markdown",
   "metadata": {},
   "source": [
    "Now data is stationary"
   ]
  },
  {
   "cell_type": "code",
   "execution_count": 42,
   "metadata": {},
   "outputs": [],
   "source": [
    "green_new_shift=green_new_log-green_new_log.shift()"
   ]
  },
  {
   "cell_type": "code",
   "execution_count": 43,
   "metadata": {},
   "outputs": [
    {
     "data": {
      "text/plain": [
       "[<matplotlib.lines.Line2D at 0x788d4ca880>]"
      ]
     },
     "execution_count": 43,
     "metadata": {},
     "output_type": "execute_result"
    },
    {
     "data": {
      "image/png": "[encoded data removed]",
      "text/plain": [
       "<Figure size 432x288 with 1 Axes>"
      ]
     },
     "metadata": {
      "needs_background": "light"
     },
     "output_type": "display_data"
    }
   ],
   "source": [
    "plt.plot(green_new_shift)"
   ]
  },
  {
   "cell_type": "code",
   "execution_count": 44,
   "metadata": {},
   "outputs": [],
   "source": [
    "green_new_shift.dropna(inplace=True)"
   ]
  },
  {
   "cell_type": "code",
   "execution_count": 45,
   "metadata": {},
   "outputs": [
    {
     "name": "stdout",
     "output_type": "stream",
     "text": [
      "result of Dickey Fuller test: \n",
      "Test Statistic                  -56.124727\n",
      "p_value                           0.000000\n",
      "lags used                        67.000000\n",
      "number of observation used    94923.000000\n",
      "Critics Value (1%)               -3.430419\n",
      "Critics Value (5%)               -2.861570\n",
      "Critics Value (10%)              -2.566786\n",
      "dtype: float64\n"
     ]
    },
    {
     "data": {
      "image/png": "[encoded data removed]",
      "text/plain": [
       "<Figure size 432x288 with 1 Axes>"
      ]
     },
     "metadata": {
      "needs_background": "light"
     },
     "output_type": "display_data"
    }
   ],
   "source": [
    "green_function(green_new_shift)"
   ]
  },
  {
   "cell_type": "markdown",
   "metadata": {},
   "source": [
    "Now data is stationary"
   ]
  },
  {
   "cell_type": "code",
   "execution_count": 46,
   "metadata": {},
   "outputs": [
    {
     "data": {
      "text/plain": [
       "[<matplotlib.lines.Line2D at 0x78904d7be0>]"
      ]
     },
     "execution_count": 46,
     "metadata": {},
     "output_type": "execute_result"
    },
    {
     "data": {
      "image/png": "[encoded data removed]",
      "text/plain": [
       "<Figure size 432x288 with 1 Axes>"
      ]
     },
     "metadata": {
      "needs_background": "light"
     },
     "output_type": "display_data"
    }
   ],
   "source": [
    "plt.plot(green_new_shift)"
   ]
  },
  {
   "cell_type": "markdown",
   "metadata": {},
   "source": [
    "seasonality to non-seasonality"
   ]
  },
  {
   "cell_type": "code",
   "execution_count": 47,
   "metadata": {},
   "outputs": [],
   "source": [
    "Seasonal_Decompose_green_new_log=seasonal_decompose(green_new_log,model=\"multiplicative\",period=365)"
   ]
  },
  {
   "cell_type": "code",
   "execution_count": 48,
   "metadata": {},
   "outputs": [],
   "source": [
    "trend=Seasonal_Decompose_green_new_log.trend\n",
    "seasonal=Seasonal_Decompose_green_new_log.seasonal\n",
    "residual=Seasonal_Decompose_green_new_log.resid"
   ]
  },
  {
   "cell_type": "code",
   "execution_count": 49,
   "metadata": {},
   "outputs": [
    {
     "data": {
      "image/png": "[encoded data removed]",
      "text/plain": [
       "<Figure size 432x288 with 4 Axes>"
      ]
     },
     "metadata": {
      "needs_background": "light"
     },
     "output_type": "display_data"
    }
   ],
   "source": [
    "plt.subplot(411)\n",
    "plt.plot(green_new_log,label='original')\n",
    "plt.legend(loc=\"best\")\n",
    "plt.subplot(412)\n",
    "plt.plot(trend,label='trend')\n",
    "plt.legend(loc=\"best\")\n",
    "plt.subplot(413)\n",
    "plt.plot(seasonal,color='red',label='seasonal')\n",
    "plt.legend(loc=\"best\")\n",
    "plt.subplot(414)\n",
    "plt.plot(residual,label='residual')\n",
    "plt.legend(loc=\"best\")\n",
    "plt.tight_layout()"
   ]
  },
  {
   "cell_type": "markdown",
   "metadata": {},
   "source": [
    "performing auto correlation function to know value of p and paritial autocorrelation function to know value of q."
   ]
  },
  {
   "cell_type": "code",
   "execution_count": 50,
   "metadata": {},
   "outputs": [],
   "source": [
    "from statsmodels.tsa.stattools import acf,pacf"
   ]
  },
  {
   "cell_type": "code",
   "execution_count": 51,
   "metadata": {},
   "outputs": [
    {
     "data": {
      "text/plain": [
       "<function matplotlib.pyplot.tight_layout(*, pad=1.08, h_pad=None, w_pad=None, rect=None)>"
      ]
     },
     "execution_count": 51,
     "metadata": {},
     "output_type": "execute_result"
    },
    {
     "data": {
      "image/png": "[encoded data removed]",
      "text/plain": [
       "<Figure size 432x288 with 2 Axes>"
      ]
     },
     "metadata": {
      "needs_background": "light"
     },
     "output_type": "display_data"
    }
   ],
   "source": [
    "lag_acf=acf(green_new_shift,nlags=20)\n",
    "lag_pacf=pacf(green_new_shift,nlags=20,method='ols')\n",
    "#plot acf\n",
    "plt.subplot(121)\n",
    "plt.plot(lag_acf)\n",
    "plt.axhline(y=0,linestyle='--',color='gray')\n",
    "plt.axhline(y=1.96/np.sqrt(len(green_new_shift)),linestyle='--',color='gray')\n",
    "plt.axhline(y=1.96/np.sqrt(len(green_new_shift)),linestyle='--',color='gray')\n",
    "plt.title('Autocorrelation')\n",
    "\n",
    "#plot pacf\n",
    "plt.subplot(122)\n",
    "plt.plot(lag_pacf)\n",
    "plt.axhline(y=0,linestyle='--',color='gray')\n",
    "plt.axhline(y=1.96/np.sqrt(len(green_new_shift)),linestyle='--',color='gray')\n",
    "plt.axhline(y=1.96/np.sqrt(len(green_new_shift)),linestyle='--',color='gray')\n",
    "plt.title('partial Autocorrelation')\n",
    "plt.tight_layout\n",
    "\n"
   ]
  },
  {
   "cell_type": "markdown",
   "metadata": {},
   "source": [
    "Performing arima for prediction and forcasting"
   ]
  },
  {
   "cell_type": "code",
   "execution_count": 52,
   "metadata": {},
   "outputs": [
    {
     "name": "stderr",
     "output_type": "stream",
     "text": [
      "c:\\Users\\abxc\\anaconda3\\lib\\site-packages\\statsmodels\\tsa\\base\\tsa_model.py:471: ValueWarning: No frequency information was provided, so inferred frequency H will be used.\n",
      "  self._init_dates(dates, freq)\n",
      "c:\\Users\\abxc\\anaconda3\\lib\\site-packages\\statsmodels\\tsa\\base\\tsa_model.py:471: ValueWarning: No frequency information was provided, so inferred frequency H will be used.\n",
      "  self._init_dates(dates, freq)\n",
      "c:\\Users\\abxc\\anaconda3\\lib\\site-packages\\statsmodels\\tsa\\base\\tsa_model.py:471: ValueWarning: No frequency information was provided, so inferred frequency H will be used.\n",
      "  self._init_dates(dates, freq)\n",
      "c:\\Users\\abxc\\anaconda3\\lib\\site-packages\\statsmodels\\base\\model.py:604: ConvergenceWarning: Maximum Likelihood optimization failed to converge. Check mle_retvals\n",
      "  warnings.warn(\"Maximum Likelihood optimization failed to \"\n"
     ]
    }
   ],
   "source": [
    "from statsmodels.tsa.arima.model import ARIMA\n",
    "model=ARIMA(green_new_log,order=(2,1,2))\n",
    "result_ar=model.fit()\n",
    "\n",
    "\n",
    "\n"
   ]
  },
  {
   "cell_type": "code",
   "execution_count": 53,
   "metadata": {},
   "outputs": [
    {
     "name": "stderr",
     "output_type": "stream",
     "text": [
      "c:\\Users\\abxc\\anaconda3\\lib\\site-packages\\statsmodels\\tsa\\base\\tsa_model.py:471: ValueWarning: No frequency information was provided, so inferred frequency H will be used.\n",
      "  self._init_dates(dates, freq)\n",
      "c:\\Users\\abxc\\anaconda3\\lib\\site-packages\\statsmodels\\tsa\\base\\tsa_model.py:471: ValueWarning: No frequency information was provided, so inferred frequency H will be used.\n",
      "  self._init_dates(dates, freq)\n",
      "c:\\Users\\abxc\\anaconda3\\lib\\site-packages\\statsmodels\\tsa\\base\\tsa_model.py:471: ValueWarning: No frequency information was provided, so inferred frequency H will be used.\n",
      "  self._init_dates(dates, freq)\n"
     ]
    }
   ],
   "source": [
    "from statsmodels.tsa.arima.model import ARIMA\n",
    "model=ARIMA(green_new_log,order=(1,1,1))\n",
    "result_ar1=model.fit()"
   ]
  },
  {
   "cell_type": "code",
   "execution_count": 54,
   "metadata": {},
   "outputs": [
    {
     "name": "stderr",
     "output_type": "stream",
     "text": [
      "c:\\Users\\abxc\\anaconda3\\lib\\site-packages\\statsmodels\\tsa\\base\\tsa_model.py:471: ValueWarning: No frequency information was provided, so inferred frequency H will be used.\n",
      "  self._init_dates(dates, freq)\n",
      "c:\\Users\\abxc\\anaconda3\\lib\\site-packages\\statsmodels\\tsa\\base\\tsa_model.py:471: ValueWarning: No frequency information was provided, so inferred frequency H will be used.\n",
      "  self._init_dates(dates, freq)\n",
      "c:\\Users\\abxc\\anaconda3\\lib\\site-packages\\statsmodels\\tsa\\base\\tsa_model.py:471: ValueWarning: No frequency information was provided, so inferred frequency H will be used.\n",
      "  self._init_dates(dates, freq)\n"
     ]
    }
   ],
   "source": [
    "from statsmodels.tsa.arima.model import ARIMA\n",
    "model=ARIMA(green_new_log,order=(1,1,0))\n",
    "result_arima=model.fit()"
   ]
  },
  {
   "cell_type": "code",
   "execution_count": 55,
   "metadata": {},
   "outputs": [
    {
     "data": {
      "text/plain": [
       "datetime\n",
       "2008-03-01 00:00:00    0.000000\n",
       "2008-03-01 01:00:00    7.138856\n",
       "2008-03-01 02:00:00    6.992414\n",
       "2008-03-01 03:00:00    6.960757\n",
       "2008-03-01 04:00:00    6.940938\n",
       "                         ...   \n",
       "2008-03-04 23:00:00    7.227549\n",
       "2008-03-05 00:00:00    7.153540\n",
       "2008-03-05 01:00:00    7.074940\n",
       "2008-03-05 02:00:00    7.008115\n",
       "2008-03-05 03:00:00    6.976803\n",
       "Length: 100, dtype: float64"
      ]
     },
     "execution_count": 55,
     "metadata": {},
     "output_type": "execute_result"
    }
   ],
   "source": [
    "predictions_arima=pd.Series(result_arima.fittedvalues,copy=True)\n",
    "predictions_arima.head(100)"
   ]
  },
  {
   "cell_type": "code",
   "execution_count": 56,
   "metadata": {},
   "outputs": [
    {
     "data": {
      "text/plain": [
       "datetime\n",
       "2008-03-01 00:00:00     0.000000\n",
       "2008-03-01 01:00:00     7.138856\n",
       "2008-03-01 02:00:00    14.131269\n",
       "2008-03-01 03:00:00    21.092026\n",
       "2008-03-01 04:00:00    28.032964\n",
       "dtype: float64"
      ]
     },
     "execution_count": 56,
     "metadata": {},
     "output_type": "execute_result"
    }
   ],
   "source": [
    "#convert to cumulative sum\n",
    "predictions_arima_cumsum=predictions_arima.cumsum()\n",
    "predictions_arima_cumsum.head()"
   ]
  },
  {
   "cell_type": "code",
   "execution_count": 57,
   "metadata": {},
   "outputs": [],
   "source": [
    "prediction_arima_log=pd.Series(green_new_log['energy'].iat[0],index=green_new_log.index)\n",
    "prediction_arima_log=prediction_arima_log.add(predictions_arima_cumsum,fill_value=0)\n",
    "\n"
   ]
  },
  {
   "cell_type": "code",
   "execution_count": 58,
   "metadata": {},
   "outputs": [
    {
     "name": "stderr",
     "output_type": "stream",
     "text": [
      "c:\\Users\\abxc\\anaconda3\\lib\\site-packages\\pandas\\core\\arraylike.py:397: RuntimeWarning: overflow encountered in exp\n",
      "  result = getattr(ufunc, method)(*inputs, **kwargs)\n"
     ]
    },
    {
     "data": {
      "text/plain": [
       "datetime\n",
       "2008-03-01 00:00:00    1.259986e+03\n",
       "2008-03-01 01:00:00    1.587564e+06\n",
       "2008-03-01 02:00:00    1.727818e+09\n",
       "2008-03-01 03:00:00    1.821865e+12\n",
       "2008-03-01 04:00:00    1.883333e+15\n",
       "dtype: float64"
      ]
     },
     "execution_count": 58,
     "metadata": {},
     "output_type": "execute_result"
    }
   ],
   "source": [
    "prediction_arima_exp=np.exp(prediction_arima_log)\n",
    "prediction_arima_exp.head()\n",
    "\n"
   ]
  },
  {
   "cell_type": "code",
   "execution_count": 59,
   "metadata": {},
   "outputs": [
    {
     "data": {
      "text/html": [
       "<div>\n",
       "<style scoped>\n",
       "    .dataframe tbody tr th:only-of-type {\n",
       "        vertical-align: middle;\n",
       "    }\n",
       "\n",
       "    .dataframe tbody tr th {\n",
       "        vertical-align: top;\n",
       "    }\n",
       "\n",
       "    .dataframe thead th {\n",
       "        text-align: right;\n",
       "    }\n",
       "</style>\n",
       "<table border=\"1\" class=\"dataframe\">\n",
       "  <thead>\n",
       "    <tr style=\"text-align: right;\">\n",
       "      <th></th>\n",
       "      <th>energy</th>\n",
       "    </tr>\n",
       "    <tr>\n",
       "      <th>datetime</th>\n",
       "      <th></th>\n",
       "    </tr>\n",
       "  </thead>\n",
       "  <tbody>\n",
       "    <tr>\n",
       "      <th>2008-03-01 00:00:00</th>\n",
       "      <td>7.138856</td>\n",
       "    </tr>\n",
       "    <tr>\n",
       "      <th>2008-03-01 01:00:00</th>\n",
       "      <td>6.999004</td>\n",
       "    </tr>\n",
       "    <tr>\n",
       "      <th>2008-03-01 02:00:00</th>\n",
       "      <td>6.962478</td>\n",
       "    </tr>\n",
       "    <tr>\n",
       "      <th>2008-03-01 03:00:00</th>\n",
       "      <td>6.941907</td>\n",
       "    </tr>\n",
       "    <tr>\n",
       "      <th>2008-03-01 04:00:00</th>\n",
       "      <td>6.933749</td>\n",
       "    </tr>\n",
       "    <tr>\n",
       "      <th>...</th>\n",
       "      <td>...</td>\n",
       "    </tr>\n",
       "    <tr>\n",
       "      <th>2018-12-31 19:00:00</th>\n",
       "      <td>7.835360</td>\n",
       "    </tr>\n",
       "    <tr>\n",
       "      <th>2018-12-31 20:00:00</th>\n",
       "      <td>7.808682</td>\n",
       "    </tr>\n",
       "    <tr>\n",
       "      <th>2018-12-31 21:00:00</th>\n",
       "      <td>7.768954</td>\n",
       "    </tr>\n",
       "    <tr>\n",
       "      <th>2018-12-31 22:00:00</th>\n",
       "      <td>7.759163</td>\n",
       "    </tr>\n",
       "    <tr>\n",
       "      <th>2018-12-31 23:00:00</th>\n",
       "      <td>7.687180</td>\n",
       "    </tr>\n",
       "  </tbody>\n",
       "</table>\n",
       "<p>94992 rows × 1 columns</p>\n",
       "</div>"
      ],
      "text/plain": [
       "                       energy\n",
       "datetime                     \n",
       "2008-03-01 00:00:00  7.138856\n",
       "2008-03-01 01:00:00  6.999004\n",
       "2008-03-01 02:00:00  6.962478\n",
       "2008-03-01 03:00:00  6.941907\n",
       "2008-03-01 04:00:00  6.933749\n",
       "...                       ...\n",
       "2018-12-31 19:00:00  7.835360\n",
       "2018-12-31 20:00:00  7.808682\n",
       "2018-12-31 21:00:00  7.768954\n",
       "2018-12-31 22:00:00  7.759163\n",
       "2018-12-31 23:00:00  7.687180\n",
       "\n",
       "[94992 rows x 1 columns]"
      ]
     },
     "execution_count": 59,
     "metadata": {},
     "output_type": "execute_result"
    }
   ],
   "source": [
    "green_new_log\n"
   ]
  },
  {
   "cell_type": "code",
   "execution_count": 60,
   "metadata": {},
   "outputs": [
    {
     "data": {
      "text/plain": [
       "2008-03-01 01:00:00    7.138856\n",
       "2008-03-01 02:00:00    6.992414\n",
       "2008-03-01 03:00:00    6.960757\n",
       "2008-03-01 04:00:00    6.940938\n",
       "2008-03-01 05:00:00    6.933365\n",
       "                         ...   \n",
       "2021-12-15 20:00:00    7.683620\n",
       "2021-12-15 21:00:00    7.683620\n",
       "2021-12-15 22:00:00    7.683620\n",
       "2021-12-15 23:00:00    7.683620\n",
       "2021-12-16 00:00:00    7.683620\n",
       "Freq: H, Name: predicted_mean, Length: 120912, dtype: float64"
      ]
     },
     "execution_count": 60,
     "metadata": {},
     "output_type": "execute_result"
    }
   ],
   "source": [
    "result_arima.predict(1,120912)\n"
   ]
  },
  {
   "cell_type": "code",
   "execution_count": 76,
   "metadata": {},
   "outputs": [
    {
     "data": {
      "text/plain": [
       "2019-01-01 00:00:00    7.683788\n",
       "2019-01-01 01:00:00    7.683628\n",
       "2019-01-01 02:00:00    7.683621\n",
       "2019-01-01 03:00:00    7.683620\n",
       "2019-01-01 04:00:00    7.683620\n",
       "Freq: H, Name: predicted_mean, dtype: float64"
      ]
     },
     "execution_count": 76,
     "metadata": {},
     "output_type": "execute_result"
    }
   ],
   "source": [
    "prediction_3yrs=result_arima.forecast(26305)\n",
    "prediction_3yrs.head()\n",
    "\n",
    "\n"
   ]
  },
  {
   "cell_type": "code",
   "execution_count": 77,
   "metadata": {},
   "outputs": [],
   "source": [
    "prediction_3yrs_exp=np.exp(prediction_3yrs)"
   ]
  },
  {
   "cell_type": "code",
   "execution_count": 78,
   "metadata": {},
   "outputs": [
    {
     "data": {
      "text/plain": [
       "2021-12-31 20:00:00    2172.47032\n",
       "2021-12-31 21:00:00    2172.47032\n",
       "2021-12-31 22:00:00    2172.47032\n",
       "2021-12-31 23:00:00    2172.47032\n",
       "2022-01-01 00:00:00    2172.47032\n",
       "Freq: H, Name: predicted_mean, dtype: float64"
      ]
     },
     "execution_count": 78,
     "metadata": {},
     "output_type": "execute_result"
    }
   ],
   "source": [
    "prediction_3yrs_exp.tail()"
   ]
  },
  {
   "cell_type": "code",
   "execution_count": 79,
   "metadata": {},
   "outputs": [],
   "source": [
    "prediction_3yrs_exp.to_csv(r'G:\\job_test\\green_test1.csv')"
   ]
  }
 ],
 "metadata": {
  "kernelspec": {
   "display_name": "Python 3.9.12 ('base')",
   "language": "python",
   "name": "python3"
  },
  "language_info": {
   "codemirror_mode": {
    "name": "ipython",
    "version": 3
   },
   "file_extension": ".py",
   "mimetype": "text/x-python",
   "name": "python",
   "nbconvert_exporter": "python",
   "pygments_lexer": "ipython3",
   "version": "3.9.12 (main, Apr  4 2022, 05:22:27) [MSC v.1916 64 bit (AMD64)]"
  },
  "orig_nbformat": 4,
  "vscode": {
   "interpreter": {
    "hash": "6b181228ef2074b8c125adce8cdb2c55c5ce836c402af2611d2bdd940cc07281"
   }
  }
 },
 "nbformat": 4,
 "nbformat_minor": 2
}
